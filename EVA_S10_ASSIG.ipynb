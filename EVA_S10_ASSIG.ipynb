{
  "nbformat": 4,
  "nbformat_minor": 0,
  "metadata": {
    "kernelspec": {
      "name": "python3",
      "display_name": "Python 3"
    },
    "language_info": {
      "codemirror_mode": {
        "name": "ipython",
        "version": 3
      },
      "file_extension": ".py",
      "mimetype": "text/x-python",
      "name": "python",
      "nbconvert_exporter": "python",
      "pygments_lexer": "ipython3",
      "version": "3.6.6"
    },
    "colab": {
      "name": "EVA_S10_ASSIG.ipynb",
      "provenance": [],
      "collapsed_sections": [],
      "include_colab_link": true
    },
    "accelerator": "GPU",
    "widgets": {
      "application/vnd.jupyter.widget-state+json": {
        "ab89f4f37bb84138b2a04bbab3f04713": {
          "model_module": "@jupyter-widgets/controls",
          "model_name": "HBoxModel",
          "state": {
            "_view_name": "HBoxView",
            "_dom_classes": [],
            "_model_name": "HBoxModel",
            "_view_module": "@jupyter-widgets/controls",
            "_model_module_version": "1.5.0",
            "_view_count": null,
            "_view_module_version": "1.5.0",
            "box_style": "",
            "layout": "IPY_MODEL_5d82ed26f11647a7b28d246009b7fac2",
            "_model_module": "@jupyter-widgets/controls",
            "children": [
              "IPY_MODEL_149d92fde4d049e3931b2ba18eef8f38",
              "IPY_MODEL_bd26b0f9ba294bb9b7f578e90f378d5e"
            ]
          }
        },
        "5d82ed26f11647a7b28d246009b7fac2": {
          "model_module": "@jupyter-widgets/base",
          "model_name": "LayoutModel",
          "state": {
            "_view_name": "LayoutView",
            "grid_template_rows": null,
            "right": null,
            "justify_content": null,
            "_view_module": "@jupyter-widgets/base",
            "overflow": null,
            "_model_module_version": "1.2.0",
            "_view_count": null,
            "flex_flow": null,
            "width": null,
            "min_width": null,
            "border": null,
            "align_items": null,
            "bottom": null,
            "_model_module": "@jupyter-widgets/base",
            "top": null,
            "grid_column": null,
            "overflow_y": null,
            "overflow_x": null,
            "grid_auto_flow": null,
            "grid_area": null,
            "grid_template_columns": null,
            "flex": null,
            "_model_name": "LayoutModel",
            "justify_items": null,
            "grid_row": null,
            "max_height": null,
            "align_content": null,
            "visibility": null,
            "align_self": null,
            "height": null,
            "min_height": null,
            "padding": null,
            "grid_auto_rows": null,
            "grid_gap": null,
            "max_width": null,
            "order": null,
            "_view_module_version": "1.2.0",
            "grid_template_areas": null,
            "object_position": null,
            "object_fit": null,
            "grid_auto_columns": null,
            "margin": null,
            "display": null,
            "left": null
          }
        },
        "149d92fde4d049e3931b2ba18eef8f38": {
          "model_module": "@jupyter-widgets/controls",
          "model_name": "IntProgressModel",
          "state": {
            "_view_name": "ProgressView",
            "style": "IPY_MODEL_cebb4a892e744fb0af800dd302b34a26",
            "_dom_classes": [],
            "description": "100%",
            "_model_name": "IntProgressModel",
            "bar_style": "success",
            "max": 100,
            "_view_module": "@jupyter-widgets/controls",
            "_model_module_version": "1.5.0",
            "value": 100,
            "_view_count": null,
            "_view_module_version": "1.5.0",
            "orientation": "horizontal",
            "min": 0,
            "description_tooltip": null,
            "_model_module": "@jupyter-widgets/controls",
            "layout": "IPY_MODEL_8520cc44693f493eb928665f85c9da9a"
          }
        },
        "bd26b0f9ba294bb9b7f578e90f378d5e": {
          "model_module": "@jupyter-widgets/controls",
          "model_name": "HTMLModel",
          "state": {
            "_view_name": "HTMLView",
            "style": "IPY_MODEL_1041dc1804b94e1595de04f4c06e2aac",
            "_dom_classes": [],
            "description": "",
            "_model_name": "HTMLModel",
            "placeholder": "​",
            "_view_module": "@jupyter-widgets/controls",
            "_model_module_version": "1.5.0",
            "value": " 100/100 [00:10&lt;00:00,  9.30it/s]",
            "_view_count": null,
            "_view_module_version": "1.5.0",
            "description_tooltip": null,
            "_model_module": "@jupyter-widgets/controls",
            "layout": "IPY_MODEL_8e51959ac03f4b638eca986565421b86"
          }
        },
        "cebb4a892e744fb0af800dd302b34a26": {
          "model_module": "@jupyter-widgets/controls",
          "model_name": "ProgressStyleModel",
          "state": {
            "_view_name": "StyleView",
            "_model_name": "ProgressStyleModel",
            "description_width": "initial",
            "_view_module": "@jupyter-widgets/base",
            "_model_module_version": "1.5.0",
            "_view_count": null,
            "_view_module_version": "1.2.0",
            "bar_color": null,
            "_model_module": "@jupyter-widgets/controls"
          }
        },
        "8520cc44693f493eb928665f85c9da9a": {
          "model_module": "@jupyter-widgets/base",
          "model_name": "LayoutModel",
          "state": {
            "_view_name": "LayoutView",
            "grid_template_rows": null,
            "right": null,
            "justify_content": null,
            "_view_module": "@jupyter-widgets/base",
            "overflow": null,
            "_model_module_version": "1.2.0",
            "_view_count": null,
            "flex_flow": null,
            "width": null,
            "min_width": null,
            "border": null,
            "align_items": null,
            "bottom": null,
            "_model_module": "@jupyter-widgets/base",
            "top": null,
            "grid_column": null,
            "overflow_y": null,
            "overflow_x": null,
            "grid_auto_flow": null,
            "grid_area": null,
            "grid_template_columns": null,
            "flex": null,
            "_model_name": "LayoutModel",
            "justify_items": null,
            "grid_row": null,
            "max_height": null,
            "align_content": null,
            "visibility": null,
            "align_self": null,
            "height": null,
            "min_height": null,
            "padding": null,
            "grid_auto_rows": null,
            "grid_gap": null,
            "max_width": null,
            "order": null,
            "_view_module_version": "1.2.0",
            "grid_template_areas": null,
            "object_position": null,
            "object_fit": null,
            "grid_auto_columns": null,
            "margin": null,
            "display": null,
            "left": null
          }
        },
        "1041dc1804b94e1595de04f4c06e2aac": {
          "model_module": "@jupyter-widgets/controls",
          "model_name": "DescriptionStyleModel",
          "state": {
            "_view_name": "StyleView",
            "_model_name": "DescriptionStyleModel",
            "description_width": "",
            "_view_module": "@jupyter-widgets/base",
            "_model_module_version": "1.5.0",
            "_view_count": null,
            "_view_module_version": "1.2.0",
            "_model_module": "@jupyter-widgets/controls"
          }
        },
        "8e51959ac03f4b638eca986565421b86": {
          "model_module": "@jupyter-widgets/base",
          "model_name": "LayoutModel",
          "state": {
            "_view_name": "LayoutView",
            "grid_template_rows": null,
            "right": null,
            "justify_content": null,
            "_view_module": "@jupyter-widgets/base",
            "overflow": null,
            "_model_module_version": "1.2.0",
            "_view_count": null,
            "flex_flow": null,
            "width": null,
            "min_width": null,
            "border": null,
            "align_items": null,
            "bottom": null,
            "_model_module": "@jupyter-widgets/base",
            "top": null,
            "grid_column": null,
            "overflow_y": null,
            "overflow_x": null,
            "grid_auto_flow": null,
            "grid_area": null,
            "grid_template_columns": null,
            "flex": null,
            "_model_name": "LayoutModel",
            "justify_items": null,
            "grid_row": null,
            "max_height": null,
            "align_content": null,
            "visibility": null,
            "align_self": null,
            "height": null,
            "min_height": null,
            "padding": null,
            "grid_auto_rows": null,
            "grid_gap": null,
            "max_width": null,
            "order": null,
            "_view_module_version": "1.2.0",
            "grid_template_areas": null,
            "object_position": null,
            "object_fit": null,
            "grid_auto_columns": null,
            "margin": null,
            "display": null,
            "left": null
          }
        }
      }
    }
  },
  "cells": [
    {
      "cell_type": "markdown",
      "metadata": {
        "id": "view-in-github",
        "colab_type": "text"
      },
      "source": [
        "<a href=\"https://colab.research.google.com/github/Madhusudhanbandi/EVA-S10/blob/master/EVA_S10_ASSIG.ipynb\" target=\"_parent\"><img src=\"https://colab.research.google.com/assets/colab-badge.svg\" alt=\"Open In Colab\"/></a>"
      ]
    },
    {
      "cell_type": "code",
      "metadata": {
        "id": "qnNlF2wX8-np",
        "colab_type": "code",
        "outputId": "b408573f-9951-4c13-8d3f-da2635d51939",
        "colab": {
          "base_uri": "https://localhost:8080/",
          "height": 34
        }
      },
      "source": [
        "from google.colab import drive\n",
        "drive.mount('/content/drive')\n",
        "import sys\n",
        "sys.path.append('/content/drive/My Drive')"
      ],
      "execution_count": 0,
      "outputs": [
        {
          "output_type": "stream",
          "text": [
            "Drive already mounted at /content/drive; to attempt to forcibly remount, call drive.mount(\"/content/drive\", force_remount=True).\n"
          ],
          "name": "stdout"
        }
      ]
    },
    {
      "cell_type": "code",
      "metadata": {
        "id": "E0EFQvwX9CTp",
        "colab_type": "code",
        "outputId": "69bc3022-1dd0-4747-fc69-a50742f6b654",
        "colab": {
          "base_uri": "https://localhost:8080/",
          "height": 34
        }
      },
      "source": [
        "%cd '/content/drive/My Drive/Colab Notebooks'"
      ],
      "execution_count": 0,
      "outputs": [
        {
          "output_type": "stream",
          "text": [
            "/content/drive/My Drive/Colab Notebooks\n"
          ],
          "name": "stdout"
        }
      ]
    },
    {
      "cell_type": "code",
      "metadata": {
        "id": "QVbdg0z4poCc",
        "colab_type": "code",
        "colab": {}
      },
      "source": [
        "%matplotlib inline"
      ],
      "execution_count": 0,
      "outputs": []
    },
    {
      "cell_type": "code",
      "metadata": {
        "id": "-yVpodAMpoCi",
        "colab_type": "code",
        "colab": {}
      },
      "source": [
        "from __future__ import print_function\n",
        "import torch\n",
        "import torch.nn as nn\n",
        "import torch.nn.functional as F\n",
        "import torch.optim as optim\n",
        "from torchvision import datasets,transforms\n",
        "import torchvision\n",
        "from torchsummary import summary\n",
        "from myfunctions import *\n",
        "from transforms_dataloading import downloading_data_transforms_albumentations\n",
        "from tqdm import tqdm\n",
        "\n",
        "from albumentations import  ( \n",
        "    HorizontalFlip, IAAPerspective, ShiftScaleRotate, CLAHE, RandomRotate90,\n",
        "    Transpose, ShiftScaleRotate, Blur, OpticalDistortion, GridDistortion, HueSaturationValue,\n",
        "    IAAAdditiveGaussianNoise, GaussNoise, MotionBlur, MedianBlur, IAAPiecewiseAffine,\n",
        "    IAASharpen, IAAEmboss, RandomBrightnessContrast, Flip, OneOf, Compose , Normalize ,ToFloat, Cutout\n",
        ")\n",
        "\n",
        "import cv2\n",
        "\n",
        "import numpy as np\n",
        "\n",
        "from albumentations.pytorch import  ToTensor "
      ],
      "execution_count": 0,
      "outputs": []
    },
    {
      "cell_type": "markdown",
      "metadata": {
        "id": "fUeRUA14FQZH",
        "colab_type": "text"
      },
      "source": [
        "**Downloading datasets and applying transforms**"
      ]
    },
    {
      "cell_type": "code",
      "metadata": {
        "id": "zzZb_bSdpSbs",
        "colab_type": "code",
        "outputId": "bde1cd22-6a37-4734-be6f-af04c9075753",
        "colab": {
          "base_uri": "https://localhost:8080/",
          "height": 85
        }
      },
      "source": [
        "trainset,testset =downloading_data_transforms_albumentations(datasets.CIFAR10)"
      ],
      "execution_count": 0,
      "outputs": [
        {
          "output_type": "stream",
          "text": [
            "Files already downloaded and verified\n",
            "Files already downloaded and verified\n",
            "No.of images in train set are 50000\n",
            "No.of images in test set are 10000\n"
          ],
          "name": "stdout"
        }
      ]
    },
    {
      "cell_type": "markdown",
      "metadata": {
        "id": "-G0S-xaK-jgB",
        "colab_type": "text"
      },
      "source": [
        "**Loading data to train and test loader**"
      ]
    },
    {
      "cell_type": "code",
      "metadata": {
        "id": "x9hZuC-P5vXq",
        "colab_type": "code",
        "outputId": "99d835aa-8f9a-4e35-94c1-9e76d9ee7627",
        "colab": {
          "base_uri": "https://localhost:8080/",
          "height": 51
        }
      },
      "source": [
        "trainloader,testloader=loading_to_train_test_loader(1,trainset,testset)\n"
      ],
      "execution_count": 0,
      "outputs": [
        {
          "output_type": "stream",
          "text": [
            "CUDA Available? True\n",
            "Train and Test data loaded.......\n"
          ],
          "name": "stdout"
        }
      ]
    },
    {
      "cell_type": "markdown",
      "metadata": {
        "id": "D91rZDSq-sXC",
        "colab_type": "text"
      },
      "source": [
        "**Building model network**"
      ]
    },
    {
      "cell_type": "code",
      "metadata": {
        "id": "3tzrKCk9kF5v",
        "colab_type": "code",
        "colab": {}
      },
      "source": [
        "ResNet18=Build_your_ResNetmodel([2,2,2,2])"
      ],
      "execution_count": 0,
      "outputs": []
    },
    {
      "cell_type": "markdown",
      "metadata": {
        "id": "AHe6tv8x-0iD",
        "colab_type": "text"
      },
      "source": [
        "**Adding model to device**"
      ]
    },
    {
      "cell_type": "code",
      "metadata": {
        "id": "IVZyS9ODHENM",
        "colab_type": "code",
        "outputId": "cfb9b13a-53b1-4d0b-c43f-0b8c8b589cdb",
        "colab": {
          "base_uri": "https://localhost:8080/",
          "height": 1000
        }
      },
      "source": [
        "from torchsummary import summary\n",
        "use_cuda = torch.cuda.is_available()\n",
        "device = torch.device(\"cuda\" if use_cuda else \"cpu\")\n",
        "print(device)\n",
        "model = ResNet18.to(device)\n",
        "summary(model,input_size=(3,32,32))\n",
        "print(\"Model added to device\")"
      ],
      "execution_count": 0,
      "outputs": [
        {
          "output_type": "stream",
          "text": [
            "cuda\n",
            "----------------------------------------------------------------\n",
            "        Layer (type)               Output Shape         Param #\n",
            "================================================================\n",
            "            Conv2d-1           [-1, 64, 32, 32]           1,728\n",
            "       BatchNorm2d-2           [-1, 64, 32, 32]             128\n",
            "            Conv2d-3           [-1, 64, 32, 32]          36,864\n",
            "       BatchNorm2d-4           [-1, 64, 32, 32]             128\n",
            "            Conv2d-5           [-1, 64, 32, 32]          36,864\n",
            "       BatchNorm2d-6           [-1, 64, 32, 32]             128\n",
            "        BasicBlock-7           [-1, 64, 32, 32]               0\n",
            "            Conv2d-8           [-1, 64, 32, 32]          36,864\n",
            "       BatchNorm2d-9           [-1, 64, 32, 32]             128\n",
            "           Conv2d-10           [-1, 64, 32, 32]          36,864\n",
            "      BatchNorm2d-11           [-1, 64, 32, 32]             128\n",
            "       BasicBlock-12           [-1, 64, 32, 32]               0\n",
            "           Conv2d-13          [-1, 128, 16, 16]          73,728\n",
            "      BatchNorm2d-14          [-1, 128, 16, 16]             256\n",
            "           Conv2d-15          [-1, 128, 16, 16]         147,456\n",
            "      BatchNorm2d-16          [-1, 128, 16, 16]             256\n",
            "           Conv2d-17          [-1, 128, 16, 16]           8,192\n",
            "      BatchNorm2d-18          [-1, 128, 16, 16]             256\n",
            "       BasicBlock-19          [-1, 128, 16, 16]               0\n",
            "           Conv2d-20          [-1, 128, 16, 16]         147,456\n",
            "      BatchNorm2d-21          [-1, 128, 16, 16]             256\n",
            "           Conv2d-22          [-1, 128, 16, 16]         147,456\n",
            "      BatchNorm2d-23          [-1, 128, 16, 16]             256\n",
            "       BasicBlock-24          [-1, 128, 16, 16]               0\n",
            "           Conv2d-25            [-1, 256, 8, 8]         294,912\n",
            "      BatchNorm2d-26            [-1, 256, 8, 8]             512\n",
            "           Conv2d-27            [-1, 256, 8, 8]         589,824\n",
            "      BatchNorm2d-28            [-1, 256, 8, 8]             512\n",
            "           Conv2d-29            [-1, 256, 8, 8]          32,768\n",
            "      BatchNorm2d-30            [-1, 256, 8, 8]             512\n",
            "       BasicBlock-31            [-1, 256, 8, 8]               0\n",
            "           Conv2d-32            [-1, 256, 8, 8]         589,824\n",
            "      BatchNorm2d-33            [-1, 256, 8, 8]             512\n",
            "           Conv2d-34            [-1, 256, 8, 8]         589,824\n",
            "      BatchNorm2d-35            [-1, 256, 8, 8]             512\n",
            "       BasicBlock-36            [-1, 256, 8, 8]               0\n",
            "           Conv2d-37            [-1, 512, 4, 4]       1,179,648\n",
            "      BatchNorm2d-38            [-1, 512, 4, 4]           1,024\n",
            "           Conv2d-39            [-1, 512, 4, 4]       2,359,296\n",
            "      BatchNorm2d-40            [-1, 512, 4, 4]           1,024\n",
            "           Conv2d-41            [-1, 512, 4, 4]         131,072\n",
            "      BatchNorm2d-42            [-1, 512, 4, 4]           1,024\n",
            "       BasicBlock-43            [-1, 512, 4, 4]               0\n",
            "           Conv2d-44            [-1, 512, 4, 4]       2,359,296\n",
            "      BatchNorm2d-45            [-1, 512, 4, 4]           1,024\n",
            "           Conv2d-46            [-1, 512, 4, 4]       2,359,296\n",
            "      BatchNorm2d-47            [-1, 512, 4, 4]           1,024\n",
            "       BasicBlock-48            [-1, 512, 4, 4]               0\n",
            "           Linear-49                   [-1, 10]           5,130\n",
            "================================================================\n",
            "Total params: 11,173,962\n",
            "Trainable params: 11,173,962\n",
            "Non-trainable params: 0\n",
            "----------------------------------------------------------------\n",
            "Input size (MB): 0.01\n",
            "Forward/backward pass size (MB): 11.25\n",
            "Params size (MB): 42.63\n",
            "Estimated Total Size (MB): 53.89\n",
            "----------------------------------------------------------------\n",
            "Model added to device\n"
          ],
          "name": "stdout"
        }
      ]
    },
    {
      "cell_type": "markdown",
      "metadata": {
        "id": "-X8NRW09_VHc",
        "colab_type": "text"
      },
      "source": [
        "**LR Finder**"
      ]
    },
    {
      "cell_type": "code",
      "metadata": {
        "id": "bExhmKfGC9RD",
        "colab_type": "code",
        "outputId": "ee22279c-7cce-4a14-ebd2-86d21042452b",
        "colab": {
          "base_uri": "https://localhost:8080/",
          "height": 570,
          "referenced_widgets": [
            "ab89f4f37bb84138b2a04bbab3f04713",
            "5d82ed26f11647a7b28d246009b7fac2",
            "149d92fde4d049e3931b2ba18eef8f38",
            "bd26b0f9ba294bb9b7f578e90f378d5e",
            "cebb4a892e744fb0af800dd302b34a26",
            "8520cc44693f493eb928665f85c9da9a",
            "1041dc1804b94e1595de04f4c06e2aac",
            "8e51959ac03f4b638eca986565421b86"
          ]
        }
      },
      "source": [
        "!pip install torch-lr-finder\n",
        "from torch_lr_finder import LRFinder\n",
        "import torch.optim as optim\n",
        "\n",
        "criterion = nn.CrossEntropyLoss()\n",
        "optimizer = optim.SGD(model.parameters(), lr=1e-7, momentum=0.9)\n",
        "lr_finder = LRFinder(model, optimizer, criterion, device=\"cuda\")\n",
        "lr_finder.range_test(trainloader, end_lr=10, num_iter=100)\n",
        "lr_finder.plot() # to inspect the loss-learning rate graph\n",
        "lr_finder.reset() # to reset the model and optimizer to their initial state"
      ],
      "execution_count": 0,
      "outputs": [
        {
          "output_type": "stream",
          "text": [
            "Requirement already satisfied: torch-lr-finder in /usr/local/lib/python3.6/dist-packages (0.1.2)\n",
            "Requirement already satisfied: numpy in /usr/local/lib/python3.6/dist-packages (from torch-lr-finder) (1.18.2)\n",
            "Requirement already satisfied: matplotlib in /usr/local/lib/python3.6/dist-packages (from torch-lr-finder) (3.2.0)\n",
            "Requirement already satisfied: tqdm in /usr/local/lib/python3.6/dist-packages (from torch-lr-finder) (4.38.0)\n",
            "Requirement already satisfied: torch>=0.4.1 in /usr/local/lib/python3.6/dist-packages (from torch-lr-finder) (1.4.0)\n",
            "Requirement already satisfied: cycler>=0.10 in /usr/local/lib/python3.6/dist-packages (from matplotlib->torch-lr-finder) (0.10.0)\n",
            "Requirement already satisfied: python-dateutil>=2.1 in /usr/local/lib/python3.6/dist-packages (from matplotlib->torch-lr-finder) (2.8.1)\n",
            "Requirement already satisfied: pyparsing!=2.0.4,!=2.1.2,!=2.1.6,>=2.0.1 in /usr/local/lib/python3.6/dist-packages (from matplotlib->torch-lr-finder) (2.4.6)\n",
            "Requirement already satisfied: kiwisolver>=1.0.1 in /usr/local/lib/python3.6/dist-packages (from matplotlib->torch-lr-finder) (1.1.0)\n",
            "Requirement already satisfied: six in /usr/local/lib/python3.6/dist-packages (from cycler>=0.10->matplotlib->torch-lr-finder) (1.12.0)\n",
            "Requirement already satisfied: setuptools in /usr/local/lib/python3.6/dist-packages (from kiwisolver>=1.0.1->matplotlib->torch-lr-finder) (46.0.0)\n"
          ],
          "name": "stdout"
        },
        {
          "output_type": "stream",
          "text": [
            "WARNING:torch_lr_finder.lr_finder:To enable mixed precision training, please install `apex`. Or you can re-install this package by the following command:\n",
            "  pip install torch-lr-finder -v --global-option=\"amp\"\n"
          ],
          "name": "stderr"
        },
        {
          "output_type": "display_data",
          "data": {
            "application/vnd.jupyter.widget-view+json": {
              "model_id": "ab89f4f37bb84138b2a04bbab3f04713",
              "version_minor": 0,
              "version_major": 2
            },
            "text/plain": [
              "HBox(children=(IntProgress(value=0), HTML(value='')))"
            ]
          },
          "metadata": {
            "tags": []
          }
        },
        {
          "output_type": "stream",
          "text": [
            "\n",
            "Learning rate search finished. See the graph with {finder_name}.plot()\n"
          ],
          "name": "stdout"
        },
        {
          "output_type": "display_data",
          "data": {
            "image/png": "[encoded data removed]",
            "text/plain": [
              "<Figure size 432x288 with 1 Axes>"
            ]
          },
          "metadata": {
            "tags": []
          }
        }
      ]
    },
    {
      "cell_type": "markdown",
      "metadata": {
        "id": "DYvX-Enq_LLj",
        "colab_type": "text"
      },
      "source": [
        "**Defining optimizer and Training model**"
      ]
    },
    {
      "cell_type": "code",
      "metadata": {
        "id": "MQhAiP_PqVRB",
        "colab_type": "code",
        "outputId": "decdf27b-ef36-4cea-be49-efdcd92db059",
        "colab": {
          "base_uri": "https://localhost:8080/",
          "height": 1000
        }
      },
      "source": [
        "\n",
        "import torch.optim as optim\n",
        "train_los=[]\n",
        "train_acs=[]\n",
        "test_los=[]\n",
        "test_acs=[]\n",
        "optimizer = optim.SGD(model.parameters(), lr=0.1, momentum=0.9)\n",
        "\n",
        "EPOCHS = 50\n",
        "for epoch in range(EPOCHS):\n",
        "    print(\"EPOCH:\", epoch)\n",
        "    train_losses,train_acces=training_model_with_scheduler(model, device, trainloader, optimizer)\n",
        "    train_los.append(train_losses)\n",
        "    train_acs.append(train_acces)\n",
        "    test_losses, test_acces=testing_model(model, device, testloader)\n",
        "    test_los.append(test_losses)\n",
        "    test_acs.append(test_acces)"
      ],
      "execution_count": 0,
      "outputs": [
        {
          "output_type": "stream",
          "text": [
            "EPOCH: 0\n",
            "\n",
            "Train set: Average loss: 6.4653, Train Accuracy: (51.63%)\n",
            "\n",
            "\n",
            "Test set: Average Loss: 5.5038, Test Accuracy: 5923/10000 (59.23%)\n",
            "\n",
            "EPOCH: 1\n",
            "\n",
            "Train set: Average loss: 5.1526, Train Accuracy: (62.34%)\n",
            "\n",
            "\n",
            "Test set: Average Loss: 4.6645, Test Accuracy: 6709/10000 (67.09%)\n",
            "\n",
            "EPOCH: 2\n",
            "\n",
            "Train set: Average loss: 4.4165, Train Accuracy: (67.87%)\n",
            "\n",
            "\n",
            "Test set: Average Loss: 4.2075, Test Accuracy: 7156/10000 (71.56%)\n",
            "\n",
            "EPOCH: 3\n",
            "\n",
            "Train set: Average loss: 3.7446, Train Accuracy: (72.87%)\n",
            "\n",
            "\n",
            "Test set: Average Loss: 3.6586, Test Accuracy: 7533/10000 (75.33%)\n",
            "\n",
            "EPOCH: 4\n",
            "\n",
            "Train set: Average loss: 3.3154, Train Accuracy: (76.08%)\n",
            "\n",
            "\n",
            "Test set: Average Loss: 3.0967, Test Accuracy: 7844/10000 (78.44%)\n",
            "\n",
            "EPOCH: 5\n",
            "\n",
            "Train set: Average loss: 2.9636, Train Accuracy: (78.61%)\n",
            "\n",
            "\n",
            "Test set: Average Loss: 2.8040, Test Accuracy: 8045/10000 (80.45%)\n",
            "\n",
            "EPOCH: 6\n",
            "\n",
            "Train set: Average loss: 2.7046, Train Accuracy: (80.32%)\n",
            "\n",
            "\n",
            "Test set: Average Loss: 2.7096, Test Accuracy: 8112/10000 (81.12%)\n",
            "\n",
            "EPOCH: 7\n",
            "\n",
            "Train set: Average loss: 2.4740, Train Accuracy: (82.30%)\n",
            "\n",
            "\n",
            "Test set: Average Loss: 2.6933, Test Accuracy: 8112/10000 (81.12%)\n",
            "\n",
            "EPOCH: 8\n",
            "\n",
            "Train set: Average loss: 2.2274, Train Accuracy: (84.12%)\n",
            "\n",
            "\n",
            "Test set: Average Loss: 2.3592, Test Accuracy: 8450/10000 (84.50%)\n",
            "\n",
            "EPOCH: 9\n",
            "\n",
            "Train set: Average loss: 2.0586, Train Accuracy: (85.27%)\n",
            "\n",
            "\n",
            "Test set: Average Loss: 2.6917, Test Accuracy: 8358/10000 (83.58%)\n",
            "\n",
            "EPOCH: 10\n",
            "\n",
            "Train set: Average loss: 1.8816, Train Accuracy: (86.49%)\n",
            "\n",
            "\n",
            "Test set: Average Loss: 2.2534, Test Accuracy: 8496/10000 (84.96%)\n",
            "\n",
            "EPOCH: 11\n",
            "\n",
            "Train set: Average loss: 1.7533, Train Accuracy: (87.31%)\n",
            "\n",
            "\n",
            "Test set: Average Loss: 2.2258, Test Accuracy: 8547/10000 (85.47%)\n",
            "\n",
            "EPOCH: 12\n",
            "\n",
            "Train set: Average loss: 1.5975, Train Accuracy: (88.68%)\n",
            "\n",
            "\n",
            "Test set: Average Loss: 2.2307, Test Accuracy: 8619/10000 (86.19%)\n",
            "\n",
            "EPOCH: 13\n",
            "\n",
            "Train set: Average loss: 1.5177, Train Accuracy: (88.94%)\n",
            "\n",
            "\n",
            "Test set: Average Loss: 2.1801, Test Accuracy: 8584/10000 (85.84%)\n",
            "\n",
            "EPOCH: 14\n",
            "\n",
            "Train set: Average loss: 1.4394, Train Accuracy: (89.54%)\n",
            "\n",
            "\n",
            "Test set: Average Loss: 2.1784, Test Accuracy: 8654/10000 (86.54%)\n",
            "\n",
            "EPOCH: 15\n",
            "\n",
            "Train set: Average loss: 1.3275, Train Accuracy: (90.42%)\n",
            "\n",
            "\n",
            "Test set: Average Loss: 1.9537, Test Accuracy: 8737/10000 (87.37%)\n",
            "\n",
            "EPOCH: 16\n",
            "\n",
            "Train set: Average loss: 1.2336, Train Accuracy: (91.05%)\n",
            "\n",
            "\n",
            "Test set: Average Loss: 2.2431, Test Accuracy: 8620/10000 (86.20%)\n",
            "\n",
            "EPOCH: 17\n",
            "\n",
            "Train set: Average loss: 1.1657, Train Accuracy: (91.57%)\n",
            "\n",
            "\n",
            "Test set: Average Loss: 2.1493, Test Accuracy: 8711/10000 (87.11%)\n",
            "\n",
            "EPOCH: 18\n",
            "\n",
            "Train set: Average loss: 1.0850, Train Accuracy: (92.24%)\n",
            "\n",
            "\n",
            "Test set: Average Loss: 2.1157, Test Accuracy: 8779/10000 (87.79%)\n",
            "\n",
            "EPOCH: 19\n",
            "\n",
            "Train set: Average loss: 1.0210, Train Accuracy: (92.57%)\n",
            "\n",
            "\n",
            "Test set: Average Loss: 2.0368, Test Accuracy: 8816/10000 (88.16%)\n",
            "\n",
            "EPOCH: 20\n",
            "\n",
            "Train set: Average loss: 0.9521, Train Accuracy: (93.10%)\n",
            "\n",
            "\n",
            "Test set: Average Loss: 2.3999, Test Accuracy: 8719/10000 (87.19%)\n",
            "\n",
            "EPOCH: 21\n",
            "\n",
            "Train set: Average loss: 0.9090, Train Accuracy: (93.35%)\n",
            "\n",
            "\n",
            "Test set: Average Loss: 2.0369, Test Accuracy: 8828/10000 (88.28%)\n",
            "\n",
            "EPOCH: 22\n",
            "\n",
            "Train set: Average loss: 0.8504, Train Accuracy: (93.92%)\n",
            "\n",
            "\n",
            "Test set: Average Loss: 2.1539, Test Accuracy: 8823/10000 (88.23%)\n",
            "\n",
            "EPOCH: 23\n",
            "\n",
            "Train set: Average loss: 0.8296, Train Accuracy: (94.08%)\n",
            "\n",
            "\n",
            "Test set: Average Loss: 2.1872, Test Accuracy: 8774/10000 (87.74%)\n",
            "\n",
            "EPOCH: 24\n",
            "\n",
            "Train set: Average loss: 0.8050, Train Accuracy: (94.24%)\n",
            "\n",
            "\n",
            "Test set: Average Loss: 2.4218, Test Accuracy: 8746/10000 (87.46%)\n",
            "\n",
            "EPOCH: 25\n",
            "\n",
            "Train set: Average loss: 0.7360, Train Accuracy: (94.75%)\n",
            "\n",
            "\n",
            "Test set: Average Loss: 2.4818, Test Accuracy: 8714/10000 (87.14%)\n",
            "\n",
            "EPOCH: 26\n",
            "\n",
            "Train set: Average loss: 0.7036, Train Accuracy: (94.96%)\n",
            "\n",
            "\n",
            "Test set: Average Loss: 2.2523, Test Accuracy: 8851/10000 (88.51%)\n",
            "\n",
            "EPOCH: 27\n",
            "\n",
            "Train set: Average loss: 0.6781, Train Accuracy: (95.15%)\n",
            "\n",
            "\n",
            "Test set: Average Loss: 2.4312, Test Accuracy: 8867/10000 (88.67%)\n",
            "\n",
            "EPOCH: 28\n",
            "\n",
            "Train set: Average loss: 0.6394, Train Accuracy: (95.35%)\n",
            "\n",
            "\n",
            "Test set: Average Loss: 2.1640, Test Accuracy: 8886/10000 (88.86%)\n",
            "\n",
            "EPOCH: 29\n",
            "\n",
            "Train set: Average loss: 0.6242, Train Accuracy: (95.48%)\n",
            "\n",
            "\n",
            "Test set: Average Loss: 2.2203, Test Accuracy: 8941/10000 (89.41%)\n",
            "\n",
            "EPOCH: 30\n",
            "\n",
            "Train set: Average loss: 0.6106, Train Accuracy: (95.61%)\n",
            "\n",
            "\n",
            "Test set: Average Loss: 2.3775, Test Accuracy: 8934/10000 (89.34%)\n",
            "\n",
            "EPOCH: 31\n",
            "\n",
            "Train set: Average loss: 0.5925, Train Accuracy: (95.80%)\n",
            "\n",
            "\n",
            "Test set: Average Loss: 2.3875, Test Accuracy: 8888/10000 (88.88%)\n",
            "\n",
            "EPOCH: 32\n",
            "\n",
            "Train set: Average loss: 0.5434, Train Accuracy: (96.12%)\n",
            "\n",
            "\n",
            "Test set: Average Loss: 2.2766, Test Accuracy: 8920/10000 (89.20%)\n",
            "\n",
            "EPOCH: 33\n",
            "\n",
            "Train set: Average loss: 0.5493, Train Accuracy: (96.02%)\n",
            "\n",
            "\n",
            "Test set: Average Loss: 2.2638, Test Accuracy: 8941/10000 (89.41%)\n",
            "\n",
            "EPOCH: 34\n",
            "\n",
            "Train set: Average loss: 0.5146, Train Accuracy: (96.24%)\n",
            "\n",
            "\n",
            "Test set: Average Loss: 2.2964, Test Accuracy: 8908/10000 (89.08%)\n",
            "\n",
            "EPOCH: 35\n",
            "\n",
            "Train set: Average loss: 0.5137, Train Accuracy: (96.27%)\n",
            "\n",
            "\n",
            "Test set: Average Loss: 2.3540, Test Accuracy: 8902/10000 (89.02%)\n",
            "\n",
            "EPOCH: 36\n",
            "\n",
            "Train set: Average loss: 0.4904, Train Accuracy: (96.54%)\n",
            "\n",
            "\n",
            "Test set: Average Loss: 2.5611, Test Accuracy: 8893/10000 (88.93%)\n",
            "\n",
            "EPOCH: 37\n",
            "\n",
            "Train set: Average loss: 0.4718, Train Accuracy: (96.56%)\n",
            "\n",
            "\n",
            "Test set: Average Loss: 2.3478, Test Accuracy: 8927/10000 (89.27%)\n",
            "\n",
            "EPOCH: 38\n",
            "\n",
            "Train set: Average loss: 0.4944, Train Accuracy: (96.43%)\n",
            "\n",
            "\n",
            "Test set: Average Loss: 2.3198, Test Accuracy: 8939/10000 (89.39%)\n",
            "\n",
            "EPOCH: 39\n",
            "\n",
            "Train set: Average loss: 0.4555, Train Accuracy: (96.67%)\n",
            "\n",
            "\n",
            "Test set: Average Loss: 2.2647, Test Accuracy: 8901/10000 (89.01%)\n",
            "\n",
            "EPOCH: 40\n",
            "\n",
            "Train set: Average loss: 0.4275, Train Accuracy: (96.94%)\n",
            "\n",
            "\n",
            "Test set: Average Loss: 2.1729, Test Accuracy: 8985/10000 (89.85%)\n",
            "\n",
            "EPOCH: 41\n",
            "\n",
            "Train set: Average loss: 0.4346, Train Accuracy: (96.90%)\n",
            "\n",
            "\n",
            "Test set: Average Loss: 2.4605, Test Accuracy: 8940/10000 (89.40%)\n",
            "\n",
            "EPOCH: 42\n",
            "\n",
            "Train set: Average loss: 0.4215, Train Accuracy: (97.03%)\n",
            "\n",
            "\n",
            "Test set: Average Loss: 2.2731, Test Accuracy: 8962/10000 (89.62%)\n",
            "\n",
            "EPOCH: 43\n",
            "\n",
            "Train set: Average loss: 0.4174, Train Accuracy: (97.06%)\n",
            "\n",
            "\n",
            "Test set: Average Loss: 2.3185, Test Accuracy: 8935/10000 (89.35%)\n",
            "\n",
            "EPOCH: 44\n",
            "\n",
            "Train set: Average loss: 0.4039, Train Accuracy: (97.16%)\n",
            "\n",
            "\n",
            "Test set: Average Loss: 2.3130, Test Accuracy: 8937/10000 (89.37%)\n",
            "\n",
            "EPOCH: 45\n",
            "\n",
            "Train set: Average loss: 0.3942, Train Accuracy: (97.21%)\n",
            "\n",
            "\n",
            "Test set: Average Loss: 2.4019, Test Accuracy: 8958/10000 (89.58%)\n",
            "\n",
            "EPOCH: 46\n",
            "\n",
            "Train set: Average loss: 0.4004, Train Accuracy: (97.11%)\n",
            "\n",
            "\n",
            "Test set: Average Loss: 2.3139, Test Accuracy: 8994/10000 (89.94%)\n",
            "\n",
            "EPOCH: 47\n",
            "\n",
            "Train set: Average loss: 0.3714, Train Accuracy: (97.45%)\n",
            "\n",
            "\n",
            "Test set: Average Loss: 2.5479, Test Accuracy: 8923/10000 (89.23%)\n",
            "\n",
            "EPOCH: 48\n",
            "\n",
            "Train set: Average loss: 0.3440, Train Accuracy: (97.58%)\n",
            "\n",
            "\n",
            "Test set: Average Loss: 2.3139, Test Accuracy: 8986/10000 (89.86%)\n",
            "\n",
            "EPOCH: 49\n",
            "\n",
            "Train set: Average loss: 0.3590, Train Accuracy: (97.46%)\n",
            "\n",
            "\n",
            "Test set: Average Loss: 2.2789, Test Accuracy: 8975/10000 (89.75%)\n",
            "\n"
          ],
          "name": "stdout"
        }
      ]
    },
    {
      "cell_type": "markdown",
      "metadata": {
        "id": "QIaBAVyW--q9",
        "colab_type": "text"
      },
      "source": [
        "**Loss and Accuracy graphs**"
      ]
    },
    {
      "cell_type": "code",
      "metadata": {
        "id": "mTK2kL6MtSoj",
        "colab_type": "code",
        "colab": {}
      },
      "source": [
        "import pandas as pd\n",
        "tr_lo_df=pd.DataFrame(train_los,columns=['Loss'])\n",
        "ts_lo_df=pd.DataFrame(test_los,columns=['Loss'])\n",
        "tr_ac_df=pd.DataFrame(train_acs,columns=['acc'])\n",
        "ts_ac_df=pd.DataFrame(test_acs,columns=['acc'])"
      ],
      "execution_count": 0,
      "outputs": []
    },
    {
      "cell_type": "code",
      "metadata": {
        "id": "ukvGsSMosTOT",
        "colab_type": "code",
        "outputId": "92d1cdc4-7190-4b74-d69f-aa23e98ce4b9",
        "colab": {
          "base_uri": "https://localhost:8080/",
          "height": 624
        }
      },
      "source": [
        "%matplotlib inline\n",
        "import matplotlib.pyplot as plt\n",
        "\n",
        "\n",
        "fig, axs = plt.subplots(2,1,figsize=(15,10))\n",
        "axs[0].plot(tr_lo_df.index+1,tr_lo_df['Loss'],color='red')\n",
        "axs[0].plot(ts_lo_df.index+1,ts_lo_df['Loss'],color='green')\n",
        "\n",
        "axs[0].legend(['Train loss','Test loss'], loc='upper right')\n",
        "axs[0].set_title(\"Train Test Losses\")\n",
        "# axs[0].set_ylim([-100,800])\n",
        "\n",
        "\n",
        "axs[1].plot(tr_ac_df.index+1,tr_ac_df['acc'],color='red')\n",
        "axs[1].plot(ts_ac_df.index+1,ts_ac_df['acc'],color='green')\n",
        "\n",
        "axs[1].legend(['Train Acc','Test Acc'], loc='upper right')\n",
        "axs[1].set_title(\"Train Test Accuracy\")"
      ],
      "execution_count": 0,
      "outputs": [
        {
          "output_type": "execute_result",
          "data": {
            "text/plain": [
              "Text(0.5, 1.0, 'Train Test Accuracy')"
            ]
          },
          "metadata": {
            "tags": []
          },
          "execution_count": 11
        },
        {
          "output_type": "display_data",
          "data": {
            "image/png": "[encoded data removed]",
            "text/plain": [
              "<Figure size 1080x720 with 2 Axes>"
            ]
          },
          "metadata": {
            "tags": []
          }
        }
      ]
    },
    {
      "cell_type": "markdown",
      "metadata": {
        "id": "fMVxV0Dw-3Nq",
        "colab_type": "text"
      },
      "source": [
        "**Miss classified Images**"
      ]
    },
    {
      "cell_type": "code",
      "metadata": {
        "id": "ldLf9AvxnLDi",
        "colab_type": "code",
        "colab": {}
      },
      "source": [
        "incorrect_images,incorrect_images_label,incorrect_images_predl=get_miss_classified_images(model,device,testloader)"
      ],
      "execution_count": 0,
      "outputs": []
    },
    {
      "cell_type": "code",
      "metadata": {
        "id": "ln2SvST6DKpQ",
        "colab_type": "code",
        "outputId": "46dff4f0-9097-430d-c58a-932f887161cc",
        "colab": {
          "base_uri": "https://localhost:8080/",
          "height": 780
        }
      },
      "source": [
        "imgs=torch.Tensor.cpu(incorrect_images)\n",
        "import matplotlib.pyplot as plt\n",
        "\n",
        "unorm = UnNormalize(mean=(0.4914, 0.4822, 0.4465), std= (0.2471, 0.2435, 0.2616))\n",
        "\n",
        "classes = ('plane', 'car', 'bird', 'cat',\n",
        "           'deer', 'dog', 'frog', 'horse', 'ship', 'truck')\n",
        "\n",
        "fig = plt.figure()\n",
        "fig = plt.figure(figsize=(10, 10))\n",
        "fig.suptitle('Miss-classified images' ,y=1.05,fontsize=14,color='b')\n",
        "for i in range(25):\n",
        "  plt.subplot(5,5,i+1)\n",
        "  plt.tight_layout()\n",
        "  plt.imshow(unorm(imgs[i]).permute(2, 1, 0).numpy(), interpolation='none')\n",
        "  plt.title('A: {}\\n P: {}'.format( classes[incorrect_images_label[i]],classes[incorrect_images_predl[i]]))\n",
        "\n",
        "  plt.xticks([])\n",
        "  plt.yticks([])\n",
        "\n"
      ],
      "execution_count": 0,
      "outputs": [
        {
          "output_type": "display_data",
          "data": {
            "text/plain": [
              "<Figure size 432x288 with 0 Axes>"
            ]
          },
          "metadata": {
            "tags": []
          }
        },
        {
          "output_type": "display_data",
          "data": {
            "image/png": "[encoded data removed]",
            "text/plain": [
              "<Figure size 720x720 with 25 Axes>"
            ]
          },
          "metadata": {
            "tags": []
          }
        }
      ]
    }
  ]
}